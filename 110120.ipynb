{
 "cells": [
  {
   "cell_type": "markdown",
   "metadata": {},
   "source": [
    "# FILE HANDLING\n",
    "#### File is a collection of record, Record is a collection of data and data is collection of bytes\n",
    "### FILE OPERATIONS\n",
    "- Open()\n",
    "- close()\n",
    "### Modes\n",
    "- read()\n",
    "- write()\n",
    "- append()"
   ]
  },
  {
   "cell_type": "code",
   "execution_count": 1,
   "metadata": {},
   "outputs": [
    {
     "name": "stdout",
     "output_type": "stream",
     "text": [
      "12\n",
      "78\n",
      "[12, 14, 16, 18, 20, 22, 24, 26, 28, 30, 32, 34, 36, 38, 40, 42, 44, 46, 48, 50, 52, 54, 56, 58, 60, 62, 64, 66, 68, 70, 72, 74, 76, 78]\n",
      "[13, 15, 17, 19, 21, 23, 25, 27, 29, 31, 33, 35, 37, 39, 41, 43, 45, 47, 49, 51, 53, 55, 57, 59, 61, 63, 65, 67, 69, 71, 73, 75, 77]\n"
     ]
    }
   ],
   "source": [
    "m=int(input())\n",
    "n=int(input())\n",
    "ev=[]\n",
    "od=[]\n",
    "for i in range(m,n+1):\n",
    "    if i%2==0:\n",
    "        ev.append(i)\n",
    "    else:\n",
    "        od.append(i)\n",
    "print(ev)\n",
    "print(od)"
   ]
  },
  {
   "cell_type": "code",
   "execution_count": 1,
   "metadata": {},
   "outputs": [
    {
     "name": "stdout",
     "output_type": "stream",
     "text": [
      "sai tirumala nvr engineering college\n",
      " engineering college sai tirumala\n"
     ]
    }
   ],
   "source": [
    "ff=open(\"data.txt\")\n",
    "fr=ff.read()\n",
    "print(fr)\n",
    "ff.close()"
   ]
  },
  {
   "cell_type": "code",
   "execution_count": 2,
   "metadata": {},
   "outputs": [
    {
     "name": "stdout",
     "output_type": "stream",
     "text": [
      "sai tirumala nvr engineering college\n",
      " engineering college sai tirumala\n"
     ]
    }
   ],
   "source": [
    "with open (\"data.txt\") as f:\n",
    "    h=f.read()\n",
    "    print(h)"
   ]
  },
  {
   "cell_type": "code",
   "execution_count": 5,
   "metadata": {},
   "outputs": [
    {
     "name": "stdout",
     "output_type": "stream",
     "text": [
      "48\n"
     ]
    }
   ],
   "source": [
    "with open(\"data.txt\",'w') as f:\n",
    "    fh=f.write(\"revanth \\n @ sai tirumala nvr engineering college\")\n",
    "    print(fh)"
   ]
  },
  {
   "cell_type": "code",
   "execution_count": 6,
   "metadata": {},
   "outputs": [
    {
     "name": "stdout",
     "output_type": "stream",
     "text": [
      "25\n"
     ]
    }
   ],
   "source": [
    "with open(\"data.txt\",'a') as f:\n",
    "    fh=f.write(\"\\n with roll no:16AR1A05A7\")\n",
    "    print(fh)"
   ]
  },
  {
   "cell_type": "code",
   "execution_count": 22,
   "metadata": {},
   "outputs": [
    {
     "name": "stdout",
     "output_type": "stream",
     "text": [
      "47 3 8\n"
     ]
    }
   ],
   "source": [
    "with open (\"data.txt\") as f:\n",
    "    h=f.read()\n",
    "    c=l=w=0\n",
    "    for i in h:\n",
    "        if i.isalnum():\n",
    "            c+=1\n",
    "        if i=='\\n':\n",
    "            l+=1\n",
    "        if i==' ' or i=='\\n':\n",
    "            w+=1\n",
    "print(c,l+1,w)"
   ]
  },
  {
   "cell_type": "markdown",
   "metadata": {},
   "source": [
    "# Iterators\n",
    "- iter()\n",
    "- next()"
   ]
  },
  {
   "cell_type": "code",
   "execution_count": 25,
   "metadata": {},
   "outputs": [
    {
     "name": "stdout",
     "output_type": "stream",
     "text": [
      "m\n",
      "s\n",
      "t\n",
      "p\n"
     ]
    }
   ],
   "source": [
    "a=iter(\"mstp\")\n",
    "print(next(a))\n",
    "print(next(a))\n",
    "print(next(a))\n",
    "print(next(a))"
   ]
  },
  {
   "cell_type": "code",
   "execution_count": 27,
   "metadata": {},
   "outputs": [
    {
     "name": "stdout",
     "output_type": "stream",
     "text": [
      "amvt\n",
      "vizag\n"
     ]
    }
   ],
   "source": [
    "l=[\"amvt\",\"vizag\",\"nrt\"]\n",
    "z=iter(l)\n",
    "print(next(z))\n",
    "print(next(z))"
   ]
  },
  {
   "cell_type": "code",
   "execution_count": 28,
   "metadata": {},
   "outputs": [
    {
     "name": "stdout",
     "output_type": "stream",
     "text": [
      "4\n",
      "16\n",
      "256\n"
     ]
    }
   ],
   "source": [
    "def cube():\n",
    "    n=2\n",
    "    while True:\n",
    "        n=n **2\n",
    "        yield n\n",
    "a=cube()\n",
    "for i in range(3):\n",
    "    print(next(a))"
   ]
  },
  {
   "cell_type": "code",
   "execution_count": 29,
   "metadata": {},
   "outputs": [
    {
     "name": "stdout",
     "output_type": "stream",
     "text": [
      "12 45 76\n"
     ]
    },
    {
     "data": {
      "text/plain": [
       "['12', '45', '76']"
      ]
     },
     "execution_count": 29,
     "metadata": {},
     "output_type": "execute_result"
    }
   ],
   "source": [
    "#map\n",
    "l=input().split()\n",
    "k=list(map(str,l))\n",
    "k"
   ]
  },
  {
   "cell_type": "code",
   "execution_count": 31,
   "metadata": {},
   "outputs": [
    {
     "data": {
      "text/plain": [
       "[1.0,\n",
       " 1.4142135623730951,\n",
       " 1.7320508075688772,\n",
       " 2.0,\n",
       " 2.23606797749979,\n",
       " 2.449489742783178,\n",
       " 2.6457513110645907,\n",
       " 2.8284271247461903,\n",
       " 3.0]"
      ]
     },
     "execution_count": 31,
     "metadata": {},
     "output_type": "execute_result"
    }
   ],
   "source": [
    "import math\n",
    "m=list(map(math.sqrt,range(1,10)))\n",
    "m"
   ]
  },
  {
   "cell_type": "code",
   "execution_count": 32,
   "metadata": {},
   "outputs": [
    {
     "name": "stdout",
     "output_type": "stream",
     "text": [
      "[1, 16, 36, 64]\n",
      "[4, 81, 25, 49, 9]\n"
     ]
    }
   ],
   "source": [
    "def sq(n):\n",
    "    return n**2\n",
    "k=list(map(sq,[1,4,6,8]))\n",
    "ls=[2,9,5,7,3]\n",
    "nli=list(map(sq,ls))\n",
    "print(k)\n",
    "print(nli)"
   ]
  },
  {
   "cell_type": "code",
   "execution_count": 4,
   "metadata": {},
   "outputs": [
    {
     "name": "stdout",
     "output_type": "stream",
     "text": [
      "['a', 'd', 'g']\n"
     ]
    }
   ],
   "source": [
    "#filter\n",
    "l=[3,4,6,\"a\",'d','g']\n",
    "def fnc(n):\n",
    "    n=str(n)\n",
    "    if n.isalpha():\n",
    "        return True\n",
    "    return False\n",
    "k=list(filter(fnc,l))\n",
    "print(k)\n",
    "    "
   ]
  },
  {
   "cell_type": "code",
   "execution_count": 6,
   "metadata": {},
   "outputs": [
    {
     "data": {
      "text/plain": [
       "[9, 12, 18, 'aaa', 'ddd', 'ggg']"
      ]
     },
     "execution_count": 6,
     "metadata": {},
     "output_type": "execute_result"
    }
   ],
   "source": [
    "#lambda\n",
    "r=list(list(map(lambda x:x*3,l)))\n",
    "r"
   ]
  },
  {
   "cell_type": "code",
   "execution_count": 8,
   "metadata": {},
   "outputs": [
    {
     "data": {
      "text/plain": [
       "16"
      ]
     },
     "execution_count": 8,
     "metadata": {},
     "output_type": "execute_result"
    }
   ],
   "source": [
    "m=lambda a:a**2\n",
    "m(4)"
   ]
  },
  {
   "cell_type": "markdown",
   "metadata": {},
   "source": [
    " ## Modules\n",
    "- Collection of python file functions \n",
    "## Packages\n",
    "- Collection of Modules"
   ]
  },
  {
   "cell_type": "code",
   "execution_count": 12,
   "metadata": {},
   "outputs": [
    {
     "data": {
      "text/plain": [
       "80"
      ]
     },
     "execution_count": 12,
     "metadata": {},
     "output_type": "execute_result"
    }
   ],
   "source": [
    "from math import sqrt\n",
    "s=int(sqrt(6400))\n",
    "s"
   ]
  },
  {
   "cell_type": "code",
   "execution_count": 13,
   "metadata": {},
   "outputs": [
    {
     "data": {
      "text/plain": [
       "80"
      ]
     },
     "execution_count": 13,
     "metadata": {},
     "output_type": "execute_result"
    }
   ],
   "source": [
    "from math import sqrt as ss\n",
    "s=int(ss(6400))\n",
    "s"
   ]
  },
  {
   "cell_type": "code",
   "execution_count": 18,
   "metadata": {},
   "outputs": [
    {
     "data": {
      "text/plain": [
       "31"
      ]
     },
     "execution_count": 18,
     "metadata": {},
     "output_type": "execute_result"
    }
   ],
   "source": [
    "import random \n",
    "random.randint(1,100)"
   ]
  },
  {
   "cell_type": "code",
   "execution_count": 20,
   "metadata": {},
   "outputs": [
    {
     "data": {
      "text/plain": [
       "[1, 36, 16, 4]"
      ]
     },
     "execution_count": 20,
     "metadata": {},
     "output_type": "execute_result"
    }
   ],
   "source": [
    "l=[1,6,4,2]\n",
    "sq=[n**2 for n in l]\n",
    "sq"
   ]
  },
  {
   "cell_type": "code",
   "execution_count": 23,
   "metadata": {},
   "outputs": [
    {
     "data": {
      "text/plain": [
       "[1, 3, 4, 5, 8, 9]"
      ]
     },
     "execution_count": 23,
     "metadata": {},
     "output_type": "execute_result"
    }
   ],
   "source": [
    "m=[[1,3],[4,5],[8,9]]\n",
    "res=[v for r in m for v in r]\n",
    "res"
   ]
  },
  {
   "cell_type": "code",
   "execution_count": 29,
   "metadata": {},
   "outputs": [
    {
     "data": {
      "text/plain": [
       "[6, 12, 18, 24]"
      ]
     },
     "execution_count": 29,
     "metadata": {},
     "output_type": "execute_result"
    }
   ],
   "source": [
    "n=[i for i in range(1,25)]\n",
    "res=[i for i in n if i%2==0 if i%3==0]\n",
    "res\n"
   ]
  },
  {
   "cell_type": "code",
   "execution_count": 38,
   "metadata": {},
   "outputs": [
    {
     "name": "stdout",
     "output_type": "stream",
     "text": [
      "[7, 37, 60, 52, 83, 4, 7, 61, 61] ['ODD', 'ODD', 'Even', 'Even', 'ODD', 'Even', 'ODD', 'ODD', 'ODD']\n"
     ]
    }
   ],
   "source": [
    "import random\n",
    "l=[random.randint(1,100) for i in range(1,10) ]\n",
    "re=[\"Even\" if i%2==0 else \"ODD\" for i in l]\n",
    "print(l,re)"
   ]
  },
  {
   "cell_type": "code",
   "execution_count": 44,
   "metadata": {},
   "outputs": [
    {
     "data": {
      "text/plain": [
       "[[22, 73, 60, 74, 97],\n",
       " [86, 11, 79, 4, 56],\n",
       " [100, 64, 95, 18, 15],\n",
       " [5, 57, 78, 77, 97]]"
      ]
     },
     "execution_count": 44,
     "metadata": {},
     "output_type": "execute_result"
    }
   ],
   "source": [
    "import random\n",
    "m=[[random.randint(1,100) for i in range(5)]for r in range(4)]\n",
    "m"
   ]
  },
  {
   "cell_type": "code",
   "execution_count": 45,
   "metadata": {},
   "outputs": [
    {
     "data": {
      "text/plain": [
       "[1, 8, 27, 64, 125]"
      ]
     },
     "execution_count": 45,
     "metadata": {},
     "output_type": "execute_result"
    }
   ],
   "source": [
    "ls=[1,2,3,4,5]\n",
    "c=[n**3 for n in ls]\n",
    "c"
   ]
  },
  {
   "cell_type": "code",
   "execution_count": 49,
   "metadata": {},
   "outputs": [
    {
     "data": {
      "text/plain": [
       "{'pen': 20.0, 'pencil': 10.0, 'box': 30.0, 'book': 15.0}"
      ]
     },
     "execution_count": 49,
     "metadata": {},
     "output_type": "execute_result"
    }
   ],
   "source": [
    "p={\"pen\":20,\"pencil\":10,\"box\":30, \"book\":15}\n",
    "fp={key:float(value) for key,value in p.items()}\n",
    "fp"
   ]
  },
  {
   "cell_type": "code",
   "execution_count": null,
   "metadata": {},
   "outputs": [],
   "source": []
  }
 ],
 "metadata": {
  "kernelspec": {
   "display_name": "Python 3",
   "language": "python",
   "name": "python3"
  },
  "language_info": {
   "codemirror_mode": {
    "name": "ipython",
    "version": 3
   },
   "file_extension": ".py",
   "mimetype": "text/x-python",
   "name": "python",
   "nbconvert_exporter": "python",
   "pygments_lexer": "ipython3",
   "version": "3.7.1"
  }
 },
 "nbformat": 4,
 "nbformat_minor": 2
}
