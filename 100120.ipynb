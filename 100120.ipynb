{
 "cells": [
  {
   "cell_type": "markdown",
   "metadata": {},
   "source": [
    "### PYTHON DATA STRUCTURES\n",
    "- List\n",
    "- Tuple\n",
    "- Dictionary\n",
    "- sets\n",
    "- stack\n",
    "- queue"
   ]
  },
  {
   "cell_type": "markdown",
   "metadata": {},
   "source": [
    "# LIST\n",
    "- Collection of heterogeneous elements\n",
    "- enclosed by brackets []\n",
    "- Seperated by (,)\n",
    "\n",
    "# LIST OPERATIONS\n",
    "- list addition\n",
    "- Replication\n",
    "- Membership\n",
    "- Slicing"
   ]
  },
  {
   "cell_type": "code",
   "execution_count": 2,
   "metadata": {},
   "outputs": [],
   "source": [
    "l=[] #empty list"
   ]
  },
  {
   "cell_type": "code",
   "execution_count": 5,
   "metadata": {},
   "outputs": [
    {
     "data": {
      "text/plain": [
       "'REVANTH'"
      ]
     },
     "execution_count": 5,
     "metadata": {},
     "output_type": "execute_result"
    }
   ],
   "source": [
    "a=\"revanth\"\n",
    "a.upper()\n",
    "#print(a)"
   ]
  },
  {
   "cell_type": "code",
   "execution_count": 10,
   "metadata": {},
   "outputs": [
    {
     "name": "stdout",
     "output_type": "stream",
     "text": [
      "['kia', 'jio', 57, 22.34, 'rvg', 700, 2655]\n",
      "['kia', 'jio', 57, 22.34, 'rvg', 'kia', 'jio', 57, 22.34, 'rvg']\n",
      "True\n",
      "[57, 22.34, 'rvg']\n"
     ]
    }
   ],
   "source": [
    "a=['kia','jio',57,22.34,'rvg']\n",
    "b=[700,2655]\n",
    "print(a+b)\n",
    "print(a*2)\n",
    "print(700 in b)\n",
    "print(a[2:6])"
   ]
  },
  {
   "cell_type": "code",
   "execution_count": 35,
   "metadata": {},
   "outputs": [
    {
     "name": "stdout",
     "output_type": "stream",
     "text": [
      "[57, 22.34, 'rvg', ['kia', 'jio']]\n",
      "[57, 22.34, 'rvg', ['kia', 'jio'], 'kia', 'jio']\n",
      "[2500, 'kia', 'jio']\n",
      "[57, 'rvg', [2500, 'kia', 'jio'], 'kia', 'jio']\n",
      "[5.9, 23, 23.88]\n"
     ]
    }
   ],
   "source": [
    "a=[57,22.34,'rvg']\n",
    "b=['kia','jio']\n",
    "a.append(b)\n",
    "print (a)\n",
    "a.extend(b)\n",
    "print (a)\n",
    "b.insert(0,2500)\n",
    "print (b)\n",
    "a.remove(22.34)\n",
    "print (a)\n",
    "c=[23,23.88,5.9]\n",
    "c.sort()\n",
    "print(c)"
   ]
  },
  {
   "cell_type": "code",
   "execution_count": 41,
   "metadata": {},
   "outputs": [
    {
     "data": {
      "text/plain": [
       "[57, 'rvg', [50, 555, 'kia', 'jio'], 'kia', 'jio']"
      ]
     },
     "execution_count": 41,
     "metadata": {},
     "output_type": "execute_result"
    }
   ],
   "source": [
    "a[2].insert(1,555)\n",
    "a"
   ]
  },
  {
   "cell_type": "code",
   "execution_count": 46,
   "metadata": {},
   "outputs": [
    {
     "name": "stdout",
     "output_type": "stream",
     "text": [
      "[57, 'rvg', [50, 'kia', 'jio', '999', '999', '999', '999', '999'], 'kia', 'jio']\n"
     ]
    }
   ],
   "source": [
    "a[2].append('999')\n",
    "print(a)\n",
    "a[2].remove(50)"
   ]
  },
  {
   "cell_type": "code",
   "execution_count": 56,
   "metadata": {},
   "outputs": [
    {
     "data": {
      "text/plain": [
       "6"
      ]
     },
     "execution_count": 56,
     "metadata": {},
     "output_type": "execute_result"
    }
   ],
   "source": [
    "a.append('999')\n",
    "a[2].count('999')+a.count('999') # gives the count of particular element"
   ]
  },
  {
   "cell_type": "code",
   "execution_count": 54,
   "metadata": {},
   "outputs": [
    {
     "data": {
      "text/plain": [
       "1"
      ]
     },
     "execution_count": 54,
     "metadata": {},
     "output_type": "execute_result"
    }
   ],
   "source": [
    "a.count('jio')"
   ]
  },
  {
   "cell_type": "code",
   "execution_count": 57,
   "metadata": {},
   "outputs": [
    {
     "data": {
      "text/plain": [
       "4"
      ]
     },
     "execution_count": 57,
     "metadata": {},
     "output_type": "execute_result"
    }
   ],
   "source": [
    "a.index('jio')"
   ]
  },
  {
   "cell_type": "code",
   "execution_count": 60,
   "metadata": {},
   "outputs": [
    {
     "data": {
      "text/plain": [
       "[]"
      ]
     },
     "execution_count": 60,
     "metadata": {},
     "output_type": "execute_result"
    }
   ],
   "source": [
    "b.clear()\n",
    "b"
   ]
  },
  {
   "cell_type": "code",
   "execution_count": 75,
   "metadata": {},
   "outputs": [
    {
     "data": {
      "text/plain": [
       "[1, 2, 4, 5]"
      ]
     },
     "execution_count": 75,
     "metadata": {},
     "output_type": "execute_result"
    }
   ],
   "source": [
    "a=[1,2,4,5]\n",
    "c=a.copy()\n",
    "c.clear()\n",
    "a"
   ]
  },
  {
   "cell_type": "code",
   "execution_count": 76,
   "metadata": {},
   "outputs": [
    {
     "data": {
      "text/plain": [
       "['kia', 'jio', 57, 22.34, 'rvg', [700, 2655]]"
      ]
     },
     "execution_count": 76,
     "metadata": {},
     "output_type": "execute_result"
    }
   ],
   "source": [
    "a=['kia','jio',57,22.34,'rvg',[700,2655],999]\n",
    "a.pop()\n",
    "a"
   ]
  },
  {
   "cell_type": "code",
   "execution_count": 80,
   "metadata": {},
   "outputs": [
    {
     "name": "stdout",
     "output_type": "stream",
     "text": [
      "1 2 3\n"
     ]
    },
    {
     "data": {
      "text/plain": [
       "6"
      ]
     },
     "execution_count": 80,
     "metadata": {},
     "output_type": "execute_result"
    }
   ],
   "source": [
    "a=input().split()\n",
    "s=0\n",
    "for i in a:\n",
    "    s+=int(i)\n",
    "s"
   ]
  },
  {
   "cell_type": "code",
   "execution_count": 5,
   "metadata": {},
   "outputs": [
    {
     "name": "stdout",
     "output_type": "stream",
     "text": [
      "1 2\n",
      "3 4\n",
      "[4, 6]\n"
     ]
    }
   ],
   "source": [
    "l1=input().split()\n",
    "l2=input().split()\n",
    "l3=[]\n",
    "for i in range(len(l1)):\n",
    "    re=int(l1[i])+int(l2[i])\n",
    "    l3.append(re)\n",
    "print(l3)"
   ]
  },
  {
   "cell_type": "code",
   "execution_count": 17,
   "metadata": {},
   "outputs": [
    {
     "name": "stdout",
     "output_type": "stream",
     "text": [
      "4\n",
      "rr.com\n",
      "gg.in\n",
      "pp.com\n",
      "cc.com\n",
      "\n",
      "3\n"
     ]
    }
   ],
   "source": [
    "n=int(input())\n",
    "inn=c=o=0\n",
    "i=0\n",
    "while(i<n):\n",
    "    i+=1\n",
    "    s=input()\n",
    "    if ('.com' in s):\n",
    "        c+=1\n",
    "    elif('.in' in s):\n",
    "        inn+=1\n",
    "    elif('.org' in s):\n",
    "        o+=1\n",
    "print()\n",
    "print(max(c,o,inn))\n"
   ]
  },
  {
   "cell_type": "code",
   "execution_count": 21,
   "metadata": {},
   "outputs": [
    {
     "name": "stdout",
     "output_type": "stream",
     "text": [
      "123 abc dfg 100 kml 100\n"
     ]
    },
    {
     "data": {
      "text/plain": [
       "323"
      ]
     },
     "execution_count": 21,
     "metadata": {},
     "output_type": "execute_result"
    }
   ],
   "source": [
    "a=input().split()\n",
    "s=0\n",
    "for i in a:\n",
    "    if (i.isdigit()):\n",
    "        s+=int(i)\n",
    "s"
   ]
  },
  {
   "cell_type": "code",
   "execution_count": 4,
   "metadata": {},
   "outputs": [
    {
     "name": "stdout",
     "output_type": "stream",
     "text": [
      "{89, 2, 3, 45}\n",
      "{4, 12, 78}\n"
     ]
    }
   ],
   "source": [
    "s1={45,3,2,77,89,146}\n",
    "s2={4,78,12,146,77}\n",
    "print(s1.difference(s2))\n",
    "print(s2.difference(s1))"
   ]
  },
  {
   "cell_type": "markdown",
   "metadata": {},
   "source": [
    "s1.difference_update(s2)"
   ]
  },
  {
   "cell_type": "code",
   "execution_count": 6,
   "metadata": {},
   "outputs": [
    {
     "data": {
      "text/plain": [
       "{2, 3, 45, 89}"
      ]
     },
     "execution_count": 6,
     "metadata": {},
     "output_type": "execute_result"
    }
   ],
   "source": [
    "s1.difference_update(s2)\n",
    "s1"
   ]
  },
  {
   "cell_type": "code",
   "execution_count": 10,
   "metadata": {},
   "outputs": [
    {
     "name": "stdout",
     "output_type": "stream",
     "text": [
      "{33, 66, 67, 99, 12, 245, 56, 88}\n",
      "{56, 33, 12}\n"
     ]
    }
   ],
   "source": [
    "s1={12,56,33,12,67,88}\n",
    "s2={33,66,99,245,56,12}\n",
    "print(s1.union(s2))\n",
    "print(s1.intersection(s2))"
   ]
  },
  {
   "cell_type": "code",
   "execution_count": 14,
   "metadata": {},
   "outputs": [
    {
     "name": "stdout",
     "output_type": "stream",
     "text": [
      "True\n",
      "True\n",
      "False\n",
      "{5}\n"
     ]
    }
   ],
   "source": [
    "a={1,2,3}\n",
    "b={1,2,5,3}\n",
    "print(a.issubset(b))\n",
    "print(b.issuperset(a))\n",
    "print(a.isdisjoint(b)) #returns true if no common elements among the sets\n"
   ]
  },
  {
   "cell_type": "code",
   "execution_count": 15,
   "metadata": {},
   "outputs": [
    {
     "name": "stdout",
     "output_type": "stream",
     "text": [
      "{5, 902, 23}\n"
     ]
    }
   ],
   "source": [
    "a={1,2,3,23,902}\n",
    "b={1,2,5,3}\n",
    "print(a.symmetric_difference(b)) "
   ]
  },
  {
   "cell_type": "code",
   "execution_count": 16,
   "metadata": {
    "scrolled": true
   },
   "outputs": [
    {
     "name": "stdout",
     "output_type": "stream",
     "text": [
      "['__and__', '__class__', '__contains__', '__delattr__', '__dir__', '__doc__', '__eq__', '__format__', '__ge__', '__getattribute__', '__gt__', '__hash__', '__iand__', '__init__', '__init_subclass__', '__ior__', '__isub__', '__iter__', '__ixor__', '__le__', '__len__', '__lt__', '__ne__', '__new__', '__or__', '__rand__', '__reduce__', '__reduce_ex__', '__repr__', '__ror__', '__rsub__', '__rxor__', '__setattr__', '__sizeof__', '__str__', '__sub__', '__subclasshook__', '__xor__', 'add', 'clear', 'copy', 'difference', 'difference_update', 'discard', 'intersection', 'intersection_update', 'isdisjoint', 'issubset', 'issuperset', 'pop', 'remove', 'symmetric_difference', 'symmetric_difference_update', 'union', 'update']\n"
     ]
    }
   ],
   "source": [
    "print(dir(set))"
   ]
  },
  {
   "cell_type": "code",
   "execution_count": 20,
   "metadata": {},
   "outputs": [
    {
     "data": {
      "text/plain": [
       "{1, 2, 3, 902}"
      ]
     },
     "execution_count": 20,
     "metadata": {},
     "output_type": "execute_result"
    }
   ],
   "source": [
    "a={1,2,3,23,902}\n",
    "a.remove(23)\n",
    "a"
   ]
  },
  {
   "cell_type": "markdown",
   "metadata": {},
   "source": [
    "DICTIONARY"
   ]
  },
  {
   "cell_type": "code",
   "execution_count": 48,
   "metadata": {},
   "outputs": [
    {
     "name": "stdout",
     "output_type": "stream",
     "text": [
      "goa\n",
      "{'a': 'goa', 'b': 'hyd', 'c': 'nrt'}\n",
      "{'a': 'goa', 'b': 'hyd', 'c': 'nrt', 'project': ['rvg', 'siri', 'anu', 'amru']}\n",
      "dict_items([('a', 'goa'), ('b', 'hyd'), ('c', 'nrt'), ('project', ['rvg', 'siri', 'anu', 'amru'])])\n",
      "dict_values(['goa', 'hyd', 'nrt', ['rvg', 'siri', 'anu', 'amru']])\n",
      "dict_keys(['a', 'b', 'c', 'project'])\n",
      "{'a': 'goa', 'b': 'hyd', 'c': 'nrt', 'project': ['rvg', 'siri', 'anu', 'amru'], 'clg': 'sten'}\n",
      "{'a': 'goa', 'b': 'hyd', 'c': 'nrt', 'project': ['rvg', 'siri', 'anu', 'amru'], 'clg': 'nrt'}\n"
     ]
    }
   ],
   "source": [
    "dd={'a':\"goa\",'b':\"hyd\"}\n",
    "print(dd.get('a'))\n",
    "dd.update({'c':\"nrt\"})\n",
    "print(dd)\n",
    "dd.update({\"project\":['rvg','siri','anu','amru']})\n",
    "print(dd)\n",
    "print(dd.items())\n",
    "print(dd.values())\n",
    "print(dd.keys())\n",
    "dd.setdefault('clg','sten')\n",
    "print(dd)\n",
    "dd.update({'clg':\"nrt\"})\n",
    "print(dd)"
   ]
  },
  {
   "cell_type": "code",
   "execution_count": null,
   "metadata": {},
   "outputs": [],
   "source": [
    "def addfn(n):\n",
    "    i=1\n",
    "    dd={}\n",
    "    while(i<=n):\n",
    "        i+=1\n",
    "        a=input().split()\n",
    "        dd[a[0]]=a[1:3]\n",
    "    print(dd)\n",
    "n=int(input())\n",
    "addfn(n)"
   ]
  },
  {
   "cell_type": "code",
   "execution_count": 55,
   "metadata": {},
   "outputs": [
    {
     "data": {
      "text/plain": [
       "['3', 'kk', 'mech']"
      ]
     },
     "execution_count": 55,
     "metadata": {},
     "output_type": "execute_result"
    }
   ],
   "source": [
    "d1={'a':\"goa\",'b':\"hyd\"}\n",
    "a"
   ]
  },
  {
   "cell_type": "markdown",
   "metadata": {},
   "source": [
    "## Regular Expression\n",
    "- Regular epressions are a powerful string manipulation tool\n",
    "- all modern languages have similar library packages for regular expressions \n",
    "- a regular expression also referred as 'regex' or 'regexp' or 're'\n",
    "- It provides a concise and flexible means for matching strings of text, such as particular characters ,words, patterns of characters\n"
   ]
  },
  {
   "cell_type": "markdown",
   "metadata": {},
   "source": [
    "# REGULAR EXPRESSION QUICK GUIDE\n",
    "- (^) Matches the beginning of a line\n",
    "- ($) matches the end of a line\n",
    "- (.) Matches any character\n",
    "- (\\s) Matches whitespace\n",
    "- (\\S) Matches any non-whitespace character\n",
    "- (*) Repeats a character zero or more times\n",
    "- (+) repeats a character one or more times\n",
    "- [aeiou] Matches a single character in the listed set\n",
    "- [^XYZ] Matches a single character not in the listed set\n",
    "- [a-z 0-9] The set of characters can include a range"
   ]
  },
  {
   "cell_type": "markdown",
   "metadata": {},
   "source": [
    "# Methods\n",
    "- re.match()\n",
    "- re.search()\n",
    "- re.findall()\n"
   ]
  },
  {
   "cell_type": "code",
   "execution_count": 6,
   "metadata": {},
   "outputs": [
    {
     "name": "stdout",
     "output_type": "stream",
     "text": [
      "<re.Match object; span=(0, 1), match='r'>\n",
      "<re.Match object; span=(5, 6), match='t'>\n",
      "['r']\n"
     ]
    }
   ],
   "source": [
    "import re\n",
    "print(re.match(\"r\",\"revanth\")) #checks first character\n",
    "print(re.search(\"t\",\"revanth\"))#checks for first occurence\n",
    "print(re.findall(\"r\",\"revanth\"))#checks all occurances and returns list of matches"
   ]
  },
  {
   "cell_type": "code",
   "execution_count": null,
   "metadata": {},
   "outputs": [],
   "source": []
  }
 ],
 "metadata": {
  "kernelspec": {
   "display_name": "Python 3",
   "language": "python",
   "name": "python3"
  },
  "language_info": {
   "codemirror_mode": {
    "name": "ipython",
    "version": 3
   },
   "file_extension": ".py",
   "mimetype": "text/x-python",
   "name": "python",
   "nbconvert_exporter": "python",
   "pygments_lexer": "ipython3",
   "version": "3.7.1"
  }
 },
 "nbformat": 4,
 "nbformat_minor": 2
}
