{
 "cells": [
  {
   "cell_type": "code",
   "execution_count": 4,
   "metadata": {},
   "outputs": [
    {
     "name": "stdout",
     "output_type": "stream",
     "text": [
      "Username:rvg\n",
      "Invalid Username\n"
     ]
    }
   ],
   "source": [
    "u=\"asd\"\n",
    "p=\"123\"\n",
    "user=input(\"Username:\")\n",
    "if user==u:\n",
    "    passw=input(\"Password:\")\n",
    "    if passw==p:\n",
    "        print(\"WELCOME\"+u)\n",
    "    else:\n",
    "        print(\"Invalid Password\")\n",
    "else:\n",
    "    print(\"Invalid Username\")\n"
   ]
  },
  {
   "cell_type": "code",
   "execution_count": 5,
   "metadata": {},
   "outputs": [
    {
     "data": {
      "text/plain": [
       "''"
      ]
     },
     "execution_count": 5,
     "metadata": {},
     "output_type": "execute_result"
    }
   ],
   "source": [
    "\"\""
   ]
  },
  {
   "cell_type": "code",
   "execution_count": 15,
   "metadata": {},
   "outputs": [
    {
     "name": "stdout",
     "output_type": "stream",
     "text": [
      "2\n",
      "3\n",
      "3\n",
      "2\n"
     ]
    }
   ],
   "source": [
    "a=int(input())\n",
    "b=int(input())\n",
    "c=int(input())\n",
    "if a==b==c:\n",
    "    print(\"0\")\n",
    "elif (a!=b and b!=c and c!=a):\n",
    "    print(a+b+c)\n",
    "else:\n",
    "    if a==b:\n",
    "        print (c)\n",
    "    elif a==c:\n",
    "        print (b)\n",
    "    elif b==c:\n",
    "        print (a)"
   ]
  },
  {
   "cell_type": "code",
   "execution_count": 10,
   "metadata": {},
   "outputs": [
    {
     "name": "stdout",
     "output_type": "stream",
     "text": [
      "1401601111\n",
      "VALID ISBN\n"
     ]
    }
   ],
   "source": [
    "sum=0\n",
    "n=input()\n",
    "if len(n)==10:\n",
    "    for i in range(0,10,1):\n",
    "        sum+=int(n[i])*(i+1)\n",
    "    if(sum%11==0):\n",
    "        print (\"VALID ISBN\")\n",
    "    else:\n",
    "        print(\"INVALID ISBN\")\n",
    "else:\n",
    "    print(\"Invalid\")\n"
   ]
  },
  {
   "cell_type": "code",
   "execution_count": 9,
   "metadata": {},
   "outputs": [
    {
     "name": "stdout",
     "output_type": "stream",
     "text": [
      "27\n",
      "27 * 1 = 27\n",
      "27 * 2 = 54\n",
      "27 * 3 = 81\n",
      "27 * 4 = 108\n",
      "27 * 5 = 135\n",
      "27 * 6 = 162\n",
      "27 * 7 = 189\n",
      "27 * 8 = 216\n",
      "27 * 9 = 243\n",
      "27 * 10 = 270\n"
     ]
    }
   ],
   "source": [
    "n=int(input())\n",
    "for i in range(1,11,1):\n",
    "    print(n,\"*\",i,\"=\",n*i)"
   ]
  },
  {
   "cell_type": "code",
   "execution_count": 3,
   "metadata": {},
   "outputs": [
    {
     "name": "stdout",
     "output_type": "stream",
     "text": [
      "1\n",
      "10\n",
      "55\n"
     ]
    }
   ],
   "source": [
    "s=int(input())\n",
    "e=int(input())\n",
    "sum=0\n",
    "for i in range(s,e+1,1):\n",
    "    sum+=i\n",
    "print(sum)"
   ]
  },
  {
   "cell_type": "code",
   "execution_count": 1,
   "metadata": {},
   "outputs": [
    {
     "name": "stdout",
     "output_type": "stream",
     "text": [
      "3\n",
      "* \n",
      "* * \n",
      "* * * \n"
     ]
    }
   ],
   "source": [
    "r=int(input())\n",
    "for i in range(r):\n",
    "    for j in range(i+1):\n",
    "        print(\"*\",end=\" \")\n",
    "    print()"
   ]
  },
  {
   "cell_type": "code",
   "execution_count": 5,
   "metadata": {},
   "outputs": [
    {
     "name": "stdout",
     "output_type": "stream",
     "text": [
      "3\n",
      "\n",
      "* \n",
      "\n",
      "* \n",
      "* * \n",
      "\n",
      "* \n",
      "* * \n",
      "* * * \n"
     ]
    }
   ],
   "source": [
    "r=int(input())\n",
    "m=1\n",
    "while(m<=r):\n",
    "    for i in range(m):\n",
    "        print()\n",
    "        for j in range(i+1):\n",
    "            print(\"*\",end=\" \")\n",
    "    print()\n",
    "    m+=1"
   ]
  },
  {
   "cell_type": "code",
   "execution_count": null,
   "metadata": {},
   "outputs": [],
   "source": [
    "maxi=0\n",
    "while(True):\n",
    "    n=input()\n",
    "    if(n!=\"stop\"):\n",
    "        n=int(n)\n",
    "        if(n>maxi):\n",
    "            maxi=n\n",
    "    else:\n",
    "        print(maxi)\n",
    "        break"
   ]
  },
  {
   "cell_type": "code",
   "execution_count": 3,
   "metadata": {},
   "outputs": [
    {
     "data": {
      "text/plain": [
       "'rvgrvgrvgrvg'"
      ]
     },
     "execution_count": 3,
     "metadata": {},
     "output_type": "execute_result"
    }
   ],
   "source": [
    "a='rvg'\n",
    "b=' & '\n",
    "c='pj'\n",
    "a+b+c"
   ]
  },
  {
   "cell_type": "code",
   "execution_count": 21,
   "metadata": {},
   "outputs": [
    {
     "name": "stdout",
     "output_type": "stream",
     "text": [
      "saitirumalasaitirumala\n",
      "True\n",
      "mal\n",
      "stul\n",
      "aauiis\n"
     ]
    }
   ],
   "source": [
    "a='saitirumala'\n",
    "print(a*2)\n",
    "print('r' in a)\n",
    "print (a[-4:-1])\n",
    "print(a[::3])\n",
    "print(a[::-2])"
   ]
  },
  {
   "cell_type": "code",
   "execution_count": 3,
   "metadata": {},
   "outputs": [
    {
     "data": {
      "text/plain": [
       "'python in sai tirumalacollege'"
      ]
     },
     "execution_count": 3,
     "metadata": {},
     "output_type": "execute_result"
    }
   ],
   "source": [
    "a=\"python\"\n",
    "b=\"sai tirumala NVR engineering college\"\n",
    "a+\" in \"+b[0:12]+ b[-7:]\n"
   ]
  },
  {
   "cell_type": "code",
   "execution_count": 2,
   "metadata": {},
   "outputs": [
    {
     "name": "stdout",
     "output_type": "stream",
     "text": [
      "  Sai Tirumala Nvr Engineering College 1233 \n",
      "  sai tirumala nvr engineering college 1233 \n",
      "  sai tirumala nvr engineering college 1233 \n",
      "  SAI TIRUMALA nvr ENGINEERING COLLEGE 1233 \n",
      "$$$$$$$$  sai tirumala NVR engineering college 1233 $$$$$$$$\n",
      "['sai', 'tirumala', 'NVR', 'engineering', 'college', '1233']\n",
      "['  sai tirumala NVR engineering college 1233 ']\n",
      "sai tirumala NVR engineering college 1233\n",
      "  sai tirumala NVR engineering college 1233\n",
      "  sai tirumala nvr engineering college 1233 \n",
      "  SAI TIRUMALA NVR ENGINEERING COLLEGE 1233 \n",
      "False\n",
      "False\n",
      "False\n",
      "False\n"
     ]
    }
   ],
   "source": [
    "a=\"  sai tirumala NVR engineering college \"\n",
    "print(a.title())\n",
    "print(a.capitalize())\n",
    "print(a.casefold())\n",
    "print(a.swapcase())\n",
    "print(a.center(60,'$'))\n",
    "print(a.split())\n",
    "print(a.split(\"-\"))\n",
    "print(a.strip())\n",
    "print(a.rstrip())\n",
    "print(a.lower())\n",
    "print(a.upper())\n",
    "print(a.islower())\n",
    "print(a.isupper())\n",
    "print(a.isdigit())\n",
    "print(a.isalnum())"
   ]
  },
  {
   "cell_type": "code",
   "execution_count": 20,
   "metadata": {},
   "outputs": [
    {
     "name": "stdout",
     "output_type": "stream",
     "text": [
      "s+t+e+n+ +c+o+l+l+e+g+e\n",
      "True\n",
      "False\n",
      "4\n",
      "0\n"
     ]
    }
   ],
   "source": [
    "a=\"sten college\"\n",
    "print(\"+\".join(a))\n",
    "print(a.startswith('st'))\n",
    "print(a.endswith('st'))\n",
    "print(a.index(\" \"))\n",
    "print(a.count('a'))"
   ]
  },
  {
   "cell_type": "code",
   "execution_count": 23,
   "metadata": {},
   "outputs": [
    {
     "name": "stdout",
     "output_type": "stream",
     "text": [
      "his name is kim and seccured 50 marks\n"
     ]
    }
   ],
   "source": [
    "n='kim'\n",
    "a=50\n",
    "print(\"his name is {} and seccured {} marks\".format(n,a))"
   ]
  },
  {
   "cell_type": "code",
   "execution_count": 37,
   "metadata": {},
   "outputs": [
    {
     "name": "stdout",
     "output_type": "stream",
     "text": [
      "awse45\n",
      "9\n"
     ]
    }
   ],
   "source": [
    "s=input()\n",
    "sum=0\n",
    "for i in s:\n",
    "    if(i.isdigit()):\n",
    "        sum+=int(i)\n",
    "print (sum)"
   ]
  },
  {
   "cell_type": "code",
   "execution_count": 38,
   "metadata": {},
   "outputs": [
    {
     "name": "stdout",
     "output_type": "stream",
     "text": [
      "1abv^&*()AAAK\n",
      "digits: 1 \n",
      "upper: 4 \n",
      "lower: 3 \n",
      "spaces: 0 \n",
      "special char: 5\n"
     ]
    }
   ],
   "source": [
    "s=input()\n",
    "d=u=l=sp=z=0\n",
    "for i in s:\n",
    "    if(i.isdigit()):\n",
    "        d+=1\n",
    "    elif(i.isupper()):\n",
    "        u+=1\n",
    "    elif(i.islower()):\n",
    "        l+=1\n",
    "    elif(i.isspace()):\n",
    "        sp+=1\n",
    "    else:\n",
    "        z+=1\n",
    "print (\"digits:\",d,\"\\nupper:\",u,\"\\nlower:\",l,\"\\nspaces:\",sp,\"\\nspecial char:\",z)"
   ]
  },
  {
   "cell_type": "code",
   "execution_count": 48,
   "metadata": {},
   "outputs": [
    {
     "name": "stdout",
     "output_type": "stream",
     "text": [
      "v\n",
      "a\n",
      "9\n",
      "40\n"
     ]
    }
   ],
   "source": [
    "a=\"revanth\"\n",
    "print(max(a))\n",
    "print(min(a))\n",
    "print(chr(57))\n",
    "print(ord('('))"
   ]
  },
  {
   "cell_type": "markdown",
   "metadata": {},
   "source": [
    "# User Defined Functions\n",
    "### Required arguments\n",
    "### keyword arguments\n",
    "### default arguements\n",
    "### variable - Length arguments"
   ]
  },
  {
   "cell_type": "code",
   "execution_count": 50,
   "metadata": {},
   "outputs": [
    {
     "name": "stdout",
     "output_type": "stream",
     "text": [
      "12\n",
      "1\n",
      "13\n"
     ]
    }
   ],
   "source": [
    "def addition(a,b):\n",
    "    print(a+b)\n",
    "a=int(input())\n",
    "b=int(input())\n",
    "addition(a,b)"
   ]
  },
  {
   "cell_type": "code",
   "execution_count": 51,
   "metadata": {},
   "outputs": [
    {
     "name": "stdout",
     "output_type": "stream",
     "text": [
      "14\n",
      "11\n",
      "25\n"
     ]
    }
   ],
   "source": [
    "def addition(a,b):\n",
    "    print(a+b)\n",
    "addition(int(input()),int(input()))"
   ]
  },
  {
   "cell_type": "code",
   "execution_count": 56,
   "metadata": {},
   "outputs": [
    {
     "name": "stdout",
     "output_type": "stream",
     "text": [
      "35\n"
     ]
    }
   ],
   "source": [
    "def addition(a,b):\n",
    "    print(a+b)\n",
    "addition(b=10,a=25)"
   ]
  },
  {
   "cell_type": "code",
   "execution_count": 58,
   "metadata": {},
   "outputs": [
    {
     "name": "stdout",
     "output_type": "stream",
     "text": [
      "Enter Arguments\n",
      "13\n",
      "2\n",
      "Enter Operation:3\n",
      "26\n"
     ]
    }
   ],
   "source": [
    "def op1(a,b):\n",
    "    print(a+b)\n",
    "def op2(a,b):\n",
    "    print(a-b)\n",
    "def op3(a,b):\n",
    "    print(a*b)\n",
    "def op4(a,b):\n",
    "    print(a/b)\n",
    "def op5(a,b):\n",
    "    print(a%b)\n",
    "def op6(a,b):\n",
    "    print(a**b)\n",
    "def op7(a,b):\n",
    "    print(a//b)\n",
    "print(\"Enter Arguments\")\n",
    "a=int(input())\n",
    "b=int(input())\n",
    "o=input(\"Enter Operation:\")\n",
    "if o=='1':\n",
    "    op1(a,b)\n",
    "if o=='2':\n",
    "    op2(a,b)\n",
    "if o=='3':\n",
    "    op3(a,b)\n",
    "if o=='4':\n",
    "    op4(a,b)\n",
    "if o=='5':\n",
    "    op5(a,b)\n",
    "if o=='6':\n",
    "    op6(a,b)\n",
    "if o=='7':\n",
    "    op7(a,b)"
   ]
  },
  {
   "cell_type": "code",
   "execution_count": null,
   "metadata": {},
   "outputs": [],
   "source": []
  }
 ],
 "metadata": {
  "kernelspec": {
   "display_name": "Python 3",
   "language": "python",
   "name": "python3"
  },
  "language_info": {
   "codemirror_mode": {
    "name": "ipython",
    "version": 3
   },
   "file_extension": ".py",
   "mimetype": "text/x-python",
   "name": "python",
   "nbconvert_exporter": "python",
   "pygments_lexer": "ipython3",
   "version": "3.7.1"
  }
 },
 "nbformat": 4,
 "nbformat_minor": 2
}
